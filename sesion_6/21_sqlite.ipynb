{
 "cells": [
  {
   "cell_type": "markdown",
   "id": "ff423c23-6fc4-49b7-a79a-cca69a2454b8",
   "metadata": {},
   "source": [
    "# DB - SQLite\n",
    "\n",
    "```python\n",
    "import sqlite3\n",
    "````"
   ]
  },
  {
   "cell_type": "code",
   "execution_count": 1,
   "id": "3f68cf3c-bce7-46be-b696-fe00d77c9d51",
   "metadata": {},
   "outputs": [],
   "source": [
    "# Start using sqlite package\n",
    "import sqlite3"
   ]
  },
  {
   "cell_type": "markdown",
   "id": "8da04429-d67a-4598-8d51-a211f25491e7",
   "metadata": {},
   "source": [
    "## Crear una conexion a la base de datos"
   ]
  },
  {
   "cell_type": "code",
   "execution_count": 2,
   "id": "13d618d8-9ae7-4b86-b1d4-e42cc0a47bd7",
   "metadata": {},
   "outputs": [],
   "source": [
    "db_name = \"production.db\"\n",
    "conn = sqlite3.connect(db_name)"
   ]
  },
  {
   "cell_type": "code",
   "execution_count": 3,
   "id": "c8e1ac14-99a3-4926-981a-0bef46dd442e",
   "metadata": {},
   "outputs": [],
   "source": [
    "# Crear una base de datos en la memoria\n",
    "conn_memory = sqlite3.connect(\":memory:\")"
   ]
  },
  {
   "cell_type": "markdown",
   "id": "97501514-5e48-4c78-b054-1865e34fcdd4",
   "metadata": {},
   "source": [
    "## Crear una tabla en la DB\n",
    "### Crear un cursor\n",
    "* objecto definido a traves del connector\n",
    "* nos permite ejecutar comandos en nuestra base de datos\n",
    "* basicamente todas las operaciones se ejecutan a través de este cursor"
   ]
  },
  {
   "cell_type": "code",
   "execution_count": 4,
   "id": "25baae0f-f641-405c-88de-8c1aa7f11907",
   "metadata": {},
   "outputs": [],
   "source": [
    "cursor = conn.cursor()"
   ]
  },
  {
   "cell_type": "code",
   "execution_count": 5,
   "id": "fe2bea57-03dd-4405-8210-d7f7aab1408c",
   "metadata": {},
   "outputs": [
    {
     "data": {
      "text/plain": [
       "sqlite3.Cursor"
      ]
     },
     "execution_count": 5,
     "metadata": {},
     "output_type": "execute_result"
    }
   ],
   "source": [
    "type(cursor)"
   ]
  },
  {
   "cell_type": "code",
   "execution_count": 6,
   "id": "5d3aacfa-b44f-40ac-8546-0b6607bbb790",
   "metadata": {},
   "outputs": [
    {
     "data": {
      "text/plain": [
       "sqlite3.Connection"
      ]
     },
     "execution_count": 6,
     "metadata": {},
     "output_type": "execute_result"
    }
   ],
   "source": [
    "type(conn)"
   ]
  },
  {
   "cell_type": "code",
   "execution_count": 15,
   "id": "a2e9aa9a-641d-4987-9754-2c903ae0f5e6",
   "metadata": {},
   "outputs": [],
   "source": [
    "# Create table\n",
    "db_name = \"production.db\"\n",
    "conn = sqlite3.connect(db_name)\n",
    "cursor = conn.cursor()\n",
    "\n",
    "sql_str = \"\"\"\n",
    "CREATE TABLE clients (\n",
    "    id INTEGER PRIMARY KEY AUTOINCREMENT,\n",
    "    first_name TEXT,\n",
    "    last_name TEXT,\n",
    "    email TEXT,\n",
    "    year NUMERIC\n",
    ")\n",
    "\"\"\"\n",
    "\n",
    "cursor.execute(sql_str)\n",
    "conn.commit()\n",
    "conn.close()"
   ]
  },
  {
   "cell_type": "code",
   "execution_count": 16,
   "id": "174afd8b-a740-4054-b766-f75ba5c99ff8",
   "metadata": {},
   "outputs": [],
   "source": [
    "# INSERT VALUES IN TABLE\n",
    "db_name = \"production.db\"\n",
    "conn = sqlite3.connect(db_name)\n",
    "cursor = conn.cursor()\n",
    "\n",
    "sql_str = \"\"\"\n",
    "INSERT INTO clients (first_name, last_name,email,year)\n",
    "VALUES ('Roberto','Kramer','rk@gmail.com',1984)\n",
    "\"\"\"\n",
    "\n",
    "cursor.execute(sql_str)\n",
    "conn.commit()\n",
    "conn.close()"
   ]
  },
  {
   "cell_type": "markdown",
   "id": "3967255e-f091-485b-a2e2-fdece1e77d7e",
   "metadata": {},
   "source": [
    "## Query DB\n",
    "- Retrieve de mi tabla\n",
    "\n",
    "* fetchall()\n",
    "* fetchone()\n",
    "* fetchmany()"
   ]
  },
  {
   "cell_type": "code",
   "execution_count": 17,
   "id": "8675ba15-1340-40ca-92c3-611eb43a626b",
   "metadata": {},
   "outputs": [],
   "source": [
    "# QUERY VALUES FROM DB\n",
    "db_name = \"production.db\"\n",
    "conn = sqlite3.connect(db_name)\n",
    "cursor = conn.cursor()\n",
    "\n",
    "sql_str = \"\"\"SELECT * FROM clients\"\"\"\n",
    "\n",
    "cursor.execute(sql_str)\n",
    "result = cursor.fetchall()\n",
    "\n",
    "conn.commit()\n",
    "conn.close()"
   ]
  },
  {
   "cell_type": "code",
   "execution_count": 18,
   "id": "c27082af-80dd-43dd-8818-c4bdca119830",
   "metadata": {},
   "outputs": [
    {
     "data": {
      "text/plain": [
       "[(1, 'Roberto', 'Kramer', 'rk@gmail.com', 1984)]"
      ]
     },
     "execution_count": 18,
     "metadata": {},
     "output_type": "execute_result"
    }
   ],
   "source": [
    "result"
   ]
  },
  {
   "cell_type": "markdown",
   "id": "939ecdfb-e329-4994-9f26-1c7034c98c8b",
   "metadata": {},
   "source": [
    "### Insert Multiple Values in my DB"
   ]
  },
  {
   "cell_type": "code",
   "execution_count": 22,
   "id": "c1592822-736e-4660-8298-8324fb51bee9",
   "metadata": {},
   "outputs": [],
   "source": [
    "multiple_records = [\n",
    "        (\"Albert\",\"Einstein\",\"ae@gmail.com\",1879),\n",
    "        (\"Jason\",\"Moore\",\"jm@gmail.com\",1980),\n",
    "]\n",
    "\n",
    "db_name = \"production.db\"\n",
    "conn = sqlite3.connect(db_name)\n",
    "cursor = conn.cursor()\n",
    "\n",
    "sql_str = \"\"\"\n",
    "INSERT INTO clients (first_name, last_name, email,year)\n",
    "VALUES (?,?,?,?)\n",
    "\"\"\"\n",
    "cursor.executemany(sql_str,multiple_records)\n",
    "\n",
    "conn.commit()\n",
    "conn.close()"
   ]
  },
  {
   "cell_type": "code",
   "execution_count": 23,
   "id": "6b0adef8-2933-4272-96d5-40d8840cc8dd",
   "metadata": {},
   "outputs": [
    {
     "data": {
      "text/plain": [
       "[(1, 'Roberto', 'Kramer', 'rk@gmail.com', 1984),\n",
       " (2, 'Albert', 'Einstein', 'ae@gmail.com', 1879),\n",
       " (3, 'Jason', 'Moore', 'jm@gmail.com', 1980)]"
      ]
     },
     "execution_count": 23,
     "metadata": {},
     "output_type": "execute_result"
    }
   ],
   "source": [
    "# QUERY VALUES FROM DB\n",
    "db_name = \"production.db\"\n",
    "conn = sqlite3.connect(db_name)\n",
    "cursor = conn.cursor()\n",
    "\n",
    "sql_str = \"\"\"SELECT * FROM clients\"\"\"\n",
    "\n",
    "cursor.execute(sql_str)\n",
    "result = cursor.fetchall()\n",
    "\n",
    "conn.commit()\n",
    "conn.close()\n",
    "\n",
    "result"
   ]
  },
  {
   "cell_type": "code",
   "execution_count": 24,
   "id": "2e25881a-a6ef-42c8-9d9d-79c2aa3935ac",
   "metadata": {},
   "outputs": [
    {
     "data": {
      "text/plain": [
       "(1, 'Roberto', 'Kramer', 'rk@gmail.com', 1984)"
      ]
     },
     "execution_count": 24,
     "metadata": {},
     "output_type": "execute_result"
    }
   ],
   "source": [
    "# QUERY VALUES FROM DB\n",
    "db_name = \"production.db\"\n",
    "conn = sqlite3.connect(db_name)\n",
    "cursor = conn.cursor()\n",
    "\n",
    "sql_str = \"\"\"SELECT * FROM clients\"\"\"\n",
    "\n",
    "cursor.execute(sql_str)\n",
    "result = cursor.fetchone()\n",
    "\n",
    "conn.commit()\n",
    "conn.close()\n",
    "\n",
    "result"
   ]
  },
  {
   "cell_type": "code",
   "execution_count": 25,
   "id": "da4bb016-5ebe-44a0-b2d2-2da148ee5c28",
   "metadata": {},
   "outputs": [
    {
     "data": {
      "text/plain": [
       "[(1, 'Roberto', 'Kramer', 'rk@gmail.com', 1984),\n",
       " (2, 'Albert', 'Einstein', 'ae@gmail.com', 1879)]"
      ]
     },
     "execution_count": 25,
     "metadata": {},
     "output_type": "execute_result"
    }
   ],
   "source": [
    "# QUERY VALUES FROM DB\n",
    "db_name = \"production.db\"\n",
    "conn = sqlite3.connect(db_name)\n",
    "cursor = conn.cursor()\n",
    "\n",
    "sql_str = \"\"\"SELECT * FROM clients\"\"\"\n",
    "\n",
    "cursor.execute(sql_str)\n",
    "result = cursor.fetchmany(2)\n",
    "\n",
    "conn.commit()\n",
    "conn.close()\n",
    "\n",
    "result"
   ]
  },
  {
   "cell_type": "markdown",
   "id": "b659b74b-097e-4426-8781-c4de3c2bbfb1",
   "metadata": {},
   "source": [
    "## WHERE Clauses"
   ]
  },
  {
   "cell_type": "code",
   "execution_count": 26,
   "id": "03ee6c14-11b9-406f-9515-6bf2e06bb7ec",
   "metadata": {},
   "outputs": [
    {
     "data": {
      "text/plain": [
       "[(2, 'Albert', 'Einstein', 'ae@gmail.com', 1879),\n",
       " (3, 'Jason', 'Moore', 'jm@gmail.com', 1980)]"
      ]
     },
     "execution_count": 26,
     "metadata": {},
     "output_type": "execute_result"
    }
   ],
   "source": [
    "# QUERY VALUES FROM DB\n",
    "db_name = \"production.db\"\n",
    "conn = sqlite3.connect(db_name)\n",
    "cursor = conn.cursor()\n",
    "\n",
    "sql_str = \"\"\"SELECT * FROM clients\n",
    "where LOWER(first_name) LIKE '%a%'\n",
    "\"\"\"\n",
    "\n",
    "cursor.execute(sql_str)\n",
    "result = cursor.fetchall()\n",
    "\n",
    "conn.commit()\n",
    "conn.close()\n",
    "\n",
    "result"
   ]
  },
  {
   "cell_type": "code",
   "execution_count": 27,
   "id": "529d4d4e-03f8-4154-ab71-d3b05eb69bf6",
   "metadata": {},
   "outputs": [
    {
     "data": {
      "text/plain": [
       "[]"
      ]
     },
     "execution_count": 27,
     "metadata": {},
     "output_type": "execute_result"
    }
   ],
   "source": [
    "# QUERY VALUES FROM DB\n",
    "db_name = \"production.db\"\n",
    "conn = sqlite3.connect(db_name)\n",
    "cursor = conn.cursor()\n",
    "\n",
    "sql_str = \"\"\"SELECT * FROM clients\n",
    "where last_name = 'KRAMER'\n",
    "\"\"\"\n",
    "\n",
    "cursor.execute(sql_str)\n",
    "result = cursor.fetchall()\n",
    "\n",
    "conn.commit()\n",
    "conn.close()\n",
    "\n",
    "result"
   ]
  },
  {
   "cell_type": "markdown",
   "id": "7c7c70e6-3f28-4106-9009-7110b9d666e1",
   "metadata": {},
   "source": [
    "## Update Table"
   ]
  },
  {
   "cell_type": "code",
   "execution_count": 28,
   "id": "ca5abb91-c4b1-4436-8fcd-75b4ee90b2f4",
   "metadata": {},
   "outputs": [
    {
     "data": {
      "text/plain": [
       "[(1, 'Roberto', 'Kramer', 'rk1@gmail.com', 1984),\n",
       " (2, 'Albert', 'Einstein', 'ae@gmail.com', 1879),\n",
       " (3, 'Jason', 'Moore', 'jm@gmail.com', 1980)]"
      ]
     },
     "execution_count": 28,
     "metadata": {},
     "output_type": "execute_result"
    }
   ],
   "source": [
    "# QUERY VALUES FROM DB\n",
    "db_name = \"production.db\"\n",
    "conn = sqlite3.connect(db_name)\n",
    "cursor = conn.cursor()\n",
    "\n",
    "sql_str = \"\"\"\n",
    "UPDATE clients\n",
    "SET email='rk1@gmail.com'\n",
    "WHERE id = 1\n",
    "\"\"\"\n",
    "cursor.execute(sql_str)\n",
    "conn.commit()\n",
    "\n",
    "sql_str = \"\"\"SELECT * FROM clients\"\"\"\n",
    "\n",
    "cursor.execute(sql_str)\n",
    "result = cursor.fetchall()\n",
    "\n",
    "conn.commit()\n",
    "conn.close()\n",
    "\n",
    "result"
   ]
  },
  {
   "cell_type": "markdown",
   "id": "200df78e-22a5-4eb0-af6d-557373d6cdc5",
   "metadata": {},
   "source": [
    "## Row Objects\n",
    "\n",
    "- class sqlite3.Row\n",
    "- objectos de row (lineas) optimizadas y con atributos\n",
    "- nos fornecen mas informacion sobre el schema de una tabla"
   ]
  },
  {
   "cell_type": "code",
   "execution_count": 35,
   "id": "0178210f-da3b-41ae-b3fb-a5c21e246e64",
   "metadata": {},
   "outputs": [],
   "source": [
    "# QUERY VALUES FROM DB\n",
    "db_name = \"production.db\"\n",
    "conn = sqlite3.connect(db_name)\n",
    "conn.row_factory = sqlite3.Row\n",
    "cursor = conn.cursor()\n",
    "\n",
    "sql_str = \"\"\"SELECT * FROM clients\"\"\"\n",
    "res = cursor.execute(sql_str)\n",
    "first_row = res.fetchone()"
   ]
  },
  {
   "cell_type": "code",
   "execution_count": 36,
   "id": "6ba0041f-ae75-4f76-a514-4dcac02c8385",
   "metadata": {},
   "outputs": [
    {
     "data": {
      "text/plain": [
       "sqlite3.Row"
      ]
     },
     "execution_count": 36,
     "metadata": {},
     "output_type": "execute_result"
    }
   ],
   "source": [
    "type(first_row)"
   ]
  },
  {
   "cell_type": "code",
   "execution_count": 37,
   "id": "961d8e18-31a2-4b44-9ce7-376e3a62efa6",
   "metadata": {},
   "outputs": [
    {
     "data": {
      "text/plain": [
       "['id', 'first_name', 'last_name', 'email', 'year']"
      ]
     },
     "execution_count": 37,
     "metadata": {},
     "output_type": "execute_result"
    }
   ],
   "source": [
    "first_row.keys()"
   ]
  },
  {
   "cell_type": "code",
   "execution_count": 38,
   "id": "b922c1b8-b5e9-4165-b048-12c32375e1ba",
   "metadata": {},
   "outputs": [
    {
     "data": {
      "text/plain": [
       "'Roberto'"
      ]
     },
     "execution_count": 38,
     "metadata": {},
     "output_type": "execute_result"
    }
   ],
   "source": [
    "first_row[\"first_name\"]"
   ]
  },
  {
   "cell_type": "code",
   "execution_count": 39,
   "id": "9df1b703-d7b0-4586-a9f9-621789a585ba",
   "metadata": {},
   "outputs": [],
   "source": [
    "# QUERY VALUES FROM DB\n",
    "db_name = \"production.db\"\n",
    "conn = sqlite3.connect(db_name)\n",
    "conn.row_factory = sqlite3.Row\n",
    "cursor = conn.cursor()\n",
    "\n",
    "sql_str = \"\"\"SELECT * FROM clients\"\"\"\n",
    "res = cursor.execute(sql_str)\n",
    "rows = res.fetchall()"
   ]
  },
  {
   "cell_type": "code",
   "execution_count": 40,
   "id": "01e08524-814e-4798-bc99-4d40d4bc5a51",
   "metadata": {},
   "outputs": [
    {
     "name": "stdout",
     "output_type": "stream",
     "text": [
      "First name: Roberto, Email: rk1@gmail.com, Year: 1984\n",
      "First name: Albert, Email: ae@gmail.com, Year: 1879\n",
      "First name: Jason, Email: jm@gmail.com, Year: 1980\n"
     ]
    }
   ],
   "source": [
    "for r in rows:\n",
    "    print(f\"First name: {r['first_name']}, Email: {r['email']}, Year: {r['year']}\")"
   ]
  },
  {
   "cell_type": "code",
   "execution_count": 41,
   "id": "0b4a2739-3566-4188-8cd7-a0a966d6ecef",
   "metadata": {},
   "outputs": [],
   "source": [
    "conn.close()"
   ]
  },
  {
   "cell_type": "code",
   "execution_count": null,
   "id": "8e6d143b-7126-4362-bbd0-45599be5f4e6",
   "metadata": {},
   "outputs": [],
   "source": []
  }
 ],
 "metadata": {
  "kernelspec": {
   "display_name": "Python 3 (ipykernel)",
   "language": "python",
   "name": "python3"
  },
  "language_info": {
   "codemirror_mode": {
    "name": "ipython",
    "version": 3
   },
   "file_extension": ".py",
   "mimetype": "text/x-python",
   "name": "python",
   "nbconvert_exporter": "python",
   "pygments_lexer": "ipython3",
   "version": "3.8.9"
  }
 },
 "nbformat": 4,
 "nbformat_minor": 5
}
