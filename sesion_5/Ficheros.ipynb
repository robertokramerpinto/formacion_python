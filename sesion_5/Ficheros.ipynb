{
 "cells": [
  {
   "cell_type": "markdown",
   "id": "adb34831-4c6b-454d-bb69-379acbe7aa9d",
   "metadata": {},
   "source": [
    "# Files - Entrada y Salidas / Trabajando con Documentos"
   ]
  },
  {
   "cell_type": "markdown",
   "id": "3e950d27-6dab-4bb9-9857-6d2d9e2f7b5b",
   "metadata": {},
   "source": [
    "## Flat Files (txt)\n",
    "\n",
    "**Read** file into memory -> ETL/Processing -> **Write** from memory into disk"
   ]
  },
  {
   "cell_type": "markdown",
   "id": "2338c41a-f1ee-4aaa-aa9e-366b5fbcec5e",
   "metadata": {},
   "source": [
    "### Create/Open Files with open()\n",
    "\n",
    "La funcion open() en general puede ser utilizada:\n",
    "* read\n",
    "* write\n",
    "* append\n",
    "* overwrite\n",
    "\n",
    "Syntax:\n",
    "```python\n",
    "file_object = open(filename, mode)\n",
    "```\n",
    "\n",
    "* file_object: el objecto que retorna de la funcion open()\n",
    "* filename: ruta\n",
    "* mode: determina el tipo de fichero y lo que queremos hacer con él (r/w/a)\n",
    "\n",
    "**mode**: 2 letters\n",
    "\n",
    "First letter:\n",
    "* r (read) / w (write) / a (append) / x (write) -> solo si el fichero no existe\n",
    "\n",
    "Seconde letter:\n",
    "* t/b"
   ]
  },
  {
   "cell_type": "markdown",
   "id": "2e846e6a-c858-4a4f-bec4-c842278a9939",
   "metadata": {},
   "source": [
    "**read()**"
   ]
  },
  {
   "cell_type": "code",
   "execution_count": 3,
   "id": "5edf3a9e-5240-4db8-8054-cfd0090815e3",
   "metadata": {},
   "outputs": [
    {
     "name": "stdout",
     "output_type": "stream",
     "text": [
      "Hello\n",
      "Welcome to the Python Course\n",
      "See you !!\n",
      "<class 'str'>\n"
     ]
    }
   ],
   "source": [
    "filename = \"./text1.txt\"\n",
    "\n",
    "file_obj = open(filename,'rt')\n",
    "texto_1 = file_obj.read()\n",
    "file_obj.close()\n",
    "\n",
    "print(texto_1)\n",
    "print(type(texto_1))"
   ]
  },
  {
   "cell_type": "code",
   "execution_count": 4,
   "id": "fbf5b35d-202a-41a0-bb2a-dfbe32e4e427",
   "metadata": {},
   "outputs": [
    {
     "ename": "ValueError",
     "evalue": "I/O operation on closed file.",
     "output_type": "error",
     "traceback": [
      "\u001b[0;31m---------------------------------------------------------------------------\u001b[0m",
      "\u001b[0;31mValueError\u001b[0m                                Traceback (most recent call last)",
      "Cell \u001b[0;32mIn [4], line 1\u001b[0m\n\u001b[0;32m----> 1\u001b[0m file_obj\u001b[38;5;241m.\u001b[39mread()\n",
      "\u001b[0;31mValueError\u001b[0m: I/O operation on closed file."
     ]
    }
   ],
   "source": [
    "file_obj.read()"
   ]
  },
  {
   "cell_type": "code",
   "execution_count": 6,
   "id": "6dd6f04b-c9f9-4cd9-82f2-5ac7a759868d",
   "metadata": {},
   "outputs": [
    {
     "name": "stdout",
     "output_type": "stream",
     "text": [
      "Hello\n",
      "Welcome t\n",
      "<class 'str'>\n"
     ]
    }
   ],
   "source": [
    "filename = \"./text1.txt\"\n",
    "\n",
    "file_obj = open(filename,'rt')\n",
    "texto_1 = file_obj.read(15)\n",
    "file_obj.close()\n",
    "\n",
    "print(texto_1)\n",
    "print(type(texto_1))"
   ]
  },
  {
   "cell_type": "code",
   "execution_count": 7,
   "id": "bcaf257a-b833-4b52-95bd-d848e87712a1",
   "metadata": {},
   "outputs": [
    {
     "data": {
      "text/plain": [
       "'Hello\\nWelcome t'"
      ]
     },
     "execution_count": 7,
     "metadata": {},
     "output_type": "execute_result"
    }
   ],
   "source": [
    "texto_1"
   ]
  },
  {
   "cell_type": "markdown",
   "id": "da9e533e-1f82-405b-95c1-81362558365a",
   "metadata": {},
   "source": [
    "**readline()**"
   ]
  },
  {
   "cell_type": "code",
   "execution_count": 12,
   "id": "95e7eb85-1ccd-4114-a885-f81738f04dfd",
   "metadata": {},
   "outputs": [
    {
     "name": "stdout",
     "output_type": "stream",
     "text": [
      "Hello\n",
      "\n",
      "Welcome to the Python Course\n",
      "\n",
      "See you !!\n"
     ]
    }
   ],
   "source": [
    "filename = \"./text1.txt\"\n",
    "file_obj = open(filename,'rt')\n",
    "\n",
    "line = file_obj.readline()\n",
    "print(line)\n",
    "line = file_obj.readline()\n",
    "print(line)\n",
    "line = file_obj.readline()\n",
    "print(line)\n",
    "\n",
    "file_obj.close()"
   ]
  },
  {
   "cell_type": "markdown",
   "id": "6ddf8609-f573-4e99-ba8f-254c169f94e3",
   "metadata": {},
   "source": [
    "**readlines()**\n",
    "\n",
    "Nos retorna una lista con cada linea de nuestro fichero"
   ]
  },
  {
   "cell_type": "code",
   "execution_count": 13,
   "id": "9a7941be-fe2a-49b3-b2e7-62a1c5fa3b95",
   "metadata": {},
   "outputs": [
    {
     "name": "stdout",
     "output_type": "stream",
     "text": [
      "['Hello\\n', 'Welcome to the Python Course\\n', 'See you !!']\n",
      "3\n"
     ]
    }
   ],
   "source": [
    "filename = \"./text1.txt\"\n",
    "file_obj = open(filename,'rt')\n",
    "\n",
    "list_lines = file_obj.readlines()\n",
    "file_obj.close()\n",
    "\n",
    "print(list_lines)\n",
    "print(len(list_lines))"
   ]
  },
  {
   "cell_type": "markdown",
   "id": "94eed166-95f0-40cd-96db-01b979af33b7",
   "metadata": {},
   "source": [
    "### Write Files with write()"
   ]
  },
  {
   "cell_type": "code",
   "execution_count": 20,
   "id": "9b43ceeb-c549-4ebf-86cb-7b900fee8fcb",
   "metadata": {},
   "outputs": [],
   "source": [
    "text2 = \"\"\"Hello!\n",
    "I'm writting into text2.txt\n",
    "See you\"\"\""
   ]
  },
  {
   "cell_type": "code",
   "execution_count": 21,
   "id": "26f9e305-b41e-4ab8-a5e7-c7afafe612e1",
   "metadata": {},
   "outputs": [
    {
     "data": {
      "text/plain": [
       "\"Hello!\\nI'm writting into text2.txt\\nSee you\""
      ]
     },
     "execution_count": 21,
     "metadata": {},
     "output_type": "execute_result"
    }
   ],
   "source": [
    "text2"
   ]
  },
  {
   "cell_type": "code",
   "execution_count": 22,
   "id": "f30c34b1-713d-46ca-a192-2c4d8328f571",
   "metadata": {},
   "outputs": [
    {
     "name": "stdout",
     "output_type": "stream",
     "text": [
      "Hello!\n",
      "I'm writting into text2.txt\n",
      "See you\n"
     ]
    }
   ],
   "source": [
    "print(text2)"
   ]
  },
  {
   "cell_type": "code",
   "execution_count": 23,
   "id": "a61e2e0c-552e-4809-9b91-c15063ec2d37",
   "metadata": {},
   "outputs": [],
   "source": [
    "filename = \"./text2.txt\"\n",
    "file_obj = open(filename,'wt')\n",
    "file_obj.write(text2)\n",
    "file_obj.close()"
   ]
  },
  {
   "cell_type": "code",
   "execution_count": 24,
   "id": "42085d4b-c995-4a44-a1b8-1bd1bef02719",
   "metadata": {},
   "outputs": [
    {
     "name": "stdout",
     "output_type": "stream",
     "text": [
      "Hello!\n",
      "I'm writting into text2.txt\n",
      "See you\n"
     ]
    }
   ],
   "source": [
    "filename = \"./text2.txt\"\n",
    "file_obj = open(filename,'rt')\n",
    "print(file_obj.read())\n",
    "file_obj.close()"
   ]
  },
  {
   "cell_type": "markdown",
   "id": "d6640c99-b67c-45a8-889a-6e199fd902bb",
   "metadata": {},
   "source": [
    "**appending**"
   ]
  },
  {
   "cell_type": "code",
   "execution_count": 25,
   "id": "3f71797b-f6b8-4252-900f-59396a87e105",
   "metadata": {},
   "outputs": [],
   "source": [
    "new_line_text_2 = \"\\nI'm appending to text2\"\n",
    "filename = \"./text2.txt\"\n",
    "file_obj = open(filename,'at')\n",
    "file_obj.write(new_line_text_2)\n",
    "file_obj.close()"
   ]
  },
  {
   "cell_type": "markdown",
   "id": "72f7a18f-0b36-41d9-9536-93d4fc901a28",
   "metadata": {},
   "source": [
    "**overwrite protection**"
   ]
  },
  {
   "cell_type": "code",
   "execution_count": 26,
   "id": "8e630542-2818-43f2-932e-f6d269725fb0",
   "metadata": {},
   "outputs": [
    {
     "ename": "FileExistsError",
     "evalue": "[Errno 17] File exists: './text2.txt'",
     "output_type": "error",
     "traceback": [
      "\u001b[0;31m---------------------------------------------------------------------------\u001b[0m",
      "\u001b[0;31mFileExistsError\u001b[0m                           Traceback (most recent call last)",
      "Cell \u001b[0;32mIn [26], line 6\u001b[0m\n\u001b[1;32m      1\u001b[0m text2 \u001b[38;5;241m=\u001b[39m \u001b[38;5;124m\"\"\"\u001b[39m\u001b[38;5;124mHello!\u001b[39m\n\u001b[1;32m      2\u001b[0m \u001b[38;5;124mI\u001b[39m\u001b[38;5;124m'\u001b[39m\u001b[38;5;124mm writting into text2.txt\u001b[39m\n\u001b[1;32m      3\u001b[0m \u001b[38;5;124mSee you\u001b[39m\u001b[38;5;124m\"\"\"\u001b[39m\n\u001b[1;32m      5\u001b[0m filename \u001b[38;5;241m=\u001b[39m \u001b[38;5;124m\"\u001b[39m\u001b[38;5;124m./text2.txt\u001b[39m\u001b[38;5;124m\"\u001b[39m\n\u001b[0;32m----> 6\u001b[0m file_obj \u001b[38;5;241m=\u001b[39m \u001b[38;5;28mopen\u001b[39m(filename,\u001b[38;5;124m'\u001b[39m\u001b[38;5;124mxt\u001b[39m\u001b[38;5;124m'\u001b[39m)\n\u001b[1;32m      7\u001b[0m file_obj\u001b[38;5;241m.\u001b[39mwrite(text2)\n\u001b[1;32m      8\u001b[0m file_obj\u001b[38;5;241m.\u001b[39mclose()\n",
      "\u001b[0;31mFileExistsError\u001b[0m: [Errno 17] File exists: './text2.txt'"
     ]
    }
   ],
   "source": [
    "text2 = \"\"\"Hello!\n",
    "I'm writting into text2.txt\n",
    "See you\"\"\"\n",
    "\n",
    "filename = \"./text2.txt\"\n",
    "file_obj = open(filename,'xt')\n",
    "file_obj.write(text2)\n",
    "file_obj.close()"
   ]
  },
  {
   "cell_type": "code",
   "execution_count": 27,
   "id": "e05b7116-421c-44b4-ae56-f07ddfba059b",
   "metadata": {},
   "outputs": [],
   "source": [
    "text2 = \"\"\"Hello!\n",
    "I'm writting into text3.txt\n",
    "See you\"\"\"\n",
    "\n",
    "filename = \"./text3.txt\"\n",
    "file_obj = open(filename,'xt')\n",
    "file_obj.write(text2)\n",
    "file_obj.close()"
   ]
  },
  {
   "cell_type": "markdown",
   "id": "031565c4-885b-4d44-9b73-e15dfb9b6270",
   "metadata": {},
   "source": [
    "## with (automatic close) \n",
    "\n",
    "with: context manager\n",
    "- nos crea un bloque de codigo identado para trabajar con los opened files\n",
    "- al salir deste bloque de codigo, nos cierra automaticamente los ficheros\n",
    "\n",
    "```python\n",
    "filename = \"./text1.txt\"\n",
    "file_obj = open(filename,'rt')\n",
    "\n",
    "list_lines = file_obj.readlines()\n",
    "file_obj.close()\n",
    "\n",
    "print(list_lines)\n",
    "print(len(list_lines))\n",
    "```"
   ]
  },
  {
   "cell_type": "code",
   "execution_count": 28,
   "id": "8c759d64-6b3e-4e5b-8b4d-b6e803b23730",
   "metadata": {},
   "outputs": [
    {
     "name": "stdout",
     "output_type": "stream",
     "text": [
      "['Hello\\n', 'Welcome to the Python Course\\n', 'See you !!']\n",
      "3\n"
     ]
    }
   ],
   "source": [
    "filename = \"./text1.txt\"\n",
    "\n",
    "with open(filename,'rt') as file_obj:\n",
    "    list_lines = file_obj.readlines()\n",
    "\n",
    "print(list_lines)\n",
    "print(len(list_lines))"
   ]
  },
  {
   "cell_type": "markdown",
   "id": "f4f55fb9-831b-4340-9a83-a92f5eeb37f8",
   "metadata": {},
   "source": [
    "## Files/Directory operations\n",
    "\n",
    "Packages generally used to work with files/folders:\n",
    "* os\n",
    "* pathlib\n",
    "* shutil"
   ]
  },
  {
   "cell_type": "markdown",
   "id": "9b240645-e772-492b-b281-87ebafa53011",
   "metadata": {},
   "source": [
    "**existencia de un determinado fichero/carpeta**"
   ]
  },
  {
   "cell_type": "code",
   "execution_count": 29,
   "id": "dd127f7c-7bd0-43e2-8718-2d0a24024151",
   "metadata": {},
   "outputs": [],
   "source": [
    "from pathlib import Path"
   ]
  },
  {
   "cell_type": "code",
   "execution_count": 30,
   "id": "2f876dfb-be7f-42dd-8088-9c90b007ccfa",
   "metadata": {},
   "outputs": [
    {
     "data": {
      "text/plain": [
       "True"
      ]
     },
     "execution_count": 30,
     "metadata": {},
     "output_type": "execute_result"
    }
   ],
   "source": [
    "file_to_check = \"./text1.txt\"\n",
    "Path(file_to_check).exists()"
   ]
  },
  {
   "cell_type": "code",
   "execution_count": 33,
   "id": "11e0626b-35c6-43ff-9bc6-f36eaf043e67",
   "metadata": {},
   "outputs": [
    {
     "data": {
      "text/plain": [
       "False"
      ]
     },
     "execution_count": 33,
     "metadata": {},
     "output_type": "execute_result"
    }
   ],
   "source": [
    "file_to_check = \"./text4.txt\"\n",
    "Path(file_to_check).exists()"
   ]
  },
  {
   "cell_type": "code",
   "execution_count": 34,
   "id": "e4ed04db-3d85-4964-8ea4-7857cf108904",
   "metadata": {},
   "outputs": [
    {
     "data": {
      "text/plain": [
       "True"
      ]
     },
     "execution_count": 34,
     "metadata": {},
     "output_type": "execute_result"
    }
   ],
   "source": [
    "folder_to_check = \"./modulo_ejemplo/\"\n",
    "Path(folder_to_check).exists()"
   ]
  },
  {
   "cell_type": "markdown",
   "id": "d64a5844-1ef6-4b93-ae7d-4b940e3f98e1",
   "metadata": {},
   "source": [
    "**check: si es fichero o carpeta**\n",
    "\n",
    "* .is_file()\n",
    "* .is_dir()"
   ]
  },
  {
   "cell_type": "code",
   "execution_count": 41,
   "id": "90ff61b3-a5c0-42cc-b47d-a855cb620e1b",
   "metadata": {},
   "outputs": [],
   "source": [
    "file_to_check = \"text1.txt\"\n",
    "folder_to_check = \"modulo_ejemplo/\"\n",
    "\n",
    "current_path = Path().cwd()\n",
    "full_file_path = Path.joinpath(current_path,file_to_check)\n",
    "full_folder_path = Path.joinpath(current_path,folder_to_check)"
   ]
  },
  {
   "cell_type": "code",
   "execution_count": 43,
   "id": "9bd16f5c-7f82-4444-8fbf-320079d3ff2e",
   "metadata": {},
   "outputs": [
    {
     "name": "stdout",
     "output_type": "stream",
     "text": [
      "/Users/robertokramer/git_repos/personal/formacion_python/sesion_5/text1.txt\n"
     ]
    },
    {
     "data": {
      "text/plain": [
       "True"
      ]
     },
     "execution_count": 43,
     "metadata": {},
     "output_type": "execute_result"
    }
   ],
   "source": [
    "print(full_file_path)\n",
    "Path(full_file_path).is_file()"
   ]
  },
  {
   "cell_type": "code",
   "execution_count": 44,
   "id": "18183d3f-b92d-444d-9110-86360623919c",
   "metadata": {},
   "outputs": [
    {
     "name": "stdout",
     "output_type": "stream",
     "text": [
      "/Users/robertokramer/git_repos/personal/formacion_python/sesion_5/modulo_ejemplo\n"
     ]
    },
    {
     "data": {
      "text/plain": [
       "True"
      ]
     },
     "execution_count": 44,
     "metadata": {},
     "output_type": "execute_result"
    }
   ],
   "source": [
    "print(full_folder_path)\n",
    "Path(full_folder_path).is_dir()"
   ]
  },
  {
   "cell_type": "markdown",
   "id": "a81bddf0-757c-4e85-ad05-23e47afb32c0",
   "metadata": {},
   "source": [
    "### copy/move"
   ]
  },
  {
   "cell_type": "code",
   "execution_count": 45,
   "id": "f4f778c5-78c1-42ac-b371-af211616b3ee",
   "metadata": {},
   "outputs": [],
   "source": [
    "from pathlib import Path\n",
    "import shutil"
   ]
  },
  {
   "cell_type": "code",
   "execution_count": 46,
   "id": "e1b6d334-f9d9-4660-ba4d-95a69ad39b3d",
   "metadata": {},
   "outputs": [
    {
     "name": "stdout",
     "output_type": "stream",
     "text": [
      "/Users/robertokramer/git_repos/personal/formacion_python/sesion_5/text3.txt\n",
      "/Users/robertokramer/git_repos/personal/formacion_python/sesion_5/copy_text3.txt\n"
     ]
    }
   ],
   "source": [
    "current_path = Path().cwd()\n",
    "filename = \"text3.txt\"\n",
    "copy_filename = \"copy_text3.txt\"\n",
    "\n",
    "full_path = Path.joinpath(current_path,filename)\n",
    "copy_full_path = Path.joinpath(current_path,copy_filename)\n",
    "\n",
    "print(full_path)\n",
    "print(copy_full_path)"
   ]
  },
  {
   "cell_type": "code",
   "execution_count": 47,
   "id": "02286f35-e7ef-47e5-a7b4-84a34d29be14",
   "metadata": {},
   "outputs": [
    {
     "data": {
      "text/plain": [
       "PosixPath('/Users/robertokramer/git_repos/personal/formacion_python/sesion_5/copy_text3.txt')"
      ]
     },
     "execution_count": 47,
     "metadata": {},
     "output_type": "execute_result"
    }
   ],
   "source": [
    "shutil.copy(full_path, copy_full_path)"
   ]
  },
  {
   "cell_type": "code",
   "execution_count": 48,
   "id": "3fd8f3ad-0e11-4aab-9b56-f4b1853c4ef9",
   "metadata": {},
   "outputs": [
    {
     "data": {
      "text/plain": [
       "PosixPath('/Users/robertokramer/git_repos/personal/formacion_python/sesion_5/move_text3.txt')"
      ]
     },
     "execution_count": 48,
     "metadata": {},
     "output_type": "execute_result"
    }
   ],
   "source": [
    "current_path = Path().cwd()\n",
    "copy_filename = \"copy_text3.txt\"\n",
    "move_filename = \"move_text3.txt\"\n",
    "\n",
    "copy_full_path = Path.joinpath(current_path,copy_filename)\n",
    "move_full_path = Path.joinpath(current_path,move_filename)\n",
    "\n",
    "shutil.move(copy_full_path,move_full_path)"
   ]
  },
  {
   "cell_type": "markdown",
   "id": "54babf27-49e7-4b87-b6de-bc1edc1c0b36",
   "metadata": {},
   "source": [
    "**delete**"
   ]
  },
  {
   "cell_type": "code",
   "execution_count": 51,
   "id": "f4e7553f-4b8d-4411-831c-027cfbab33cd",
   "metadata": {},
   "outputs": [
    {
     "data": {
      "text/plain": [
       "PosixPath('/Users/robertokramer/git_repos/personal/formacion_python/sesion_5/move_text3.txt')"
      ]
     },
     "execution_count": 51,
     "metadata": {},
     "output_type": "execute_result"
    }
   ],
   "source": [
    "import os\n",
    "current_path = Path().cwd()\n",
    "move_filename = \"move_text3.txt\"\n",
    "move_full_path = Path.joinpath(current_path,move_filename)\n",
    "move_full_path"
   ]
  },
  {
   "cell_type": "code",
   "execution_count": 52,
   "id": "baf5e307-4218-484a-ad43-66997f789628",
   "metadata": {},
   "outputs": [],
   "source": [
    "os.remove(move_full_path)"
   ]
  },
  {
   "cell_type": "code",
   "execution_count": 53,
   "id": "f7516523-4252-4bdd-8748-97fff7592b82",
   "metadata": {},
   "outputs": [
    {
     "data": {
      "text/plain": [
       "False"
      ]
     },
     "execution_count": 53,
     "metadata": {},
     "output_type": "execute_result"
    }
   ],
   "source": [
    "Path(move_full_path).exists()"
   ]
  },
  {
   "cell_type": "markdown",
   "id": "f6c84160-bc75-4d80-bf6b-9ac1da3bb90e",
   "metadata": {},
   "source": [
    "**create folders**\n",
    "\n",
    "* mkdir()"
   ]
  },
  {
   "cell_type": "code",
   "execution_count": 55,
   "id": "c580f68c-8271-4064-9410-525ec1cf210d",
   "metadata": {},
   "outputs": [],
   "source": [
    "import os \n",
    "from pathlib import Path\n",
    "\n",
    "current_path = Path().cwd()\n",
    "folder_to_create = \"folder_test\"\n",
    "folder_to_create_full_path = Path.joinpath(current_path,folder_to_create)\n",
    "\n",
    "os.mkdir(folder_to_create_full_path)"
   ]
  },
  {
   "cell_type": "code",
   "execution_count": 56,
   "id": "f816a6ba-689e-4965-9841-984896f0d123",
   "metadata": {},
   "outputs": [
    {
     "ename": "FileExistsError",
     "evalue": "[Errno 17] File exists: '/Users/robertokramer/git_repos/personal/formacion_python/sesion_5/folder_test'",
     "output_type": "error",
     "traceback": [
      "\u001b[0;31m---------------------------------------------------------------------------\u001b[0m",
      "\u001b[0;31mFileExistsError\u001b[0m                           Traceback (most recent call last)",
      "Cell \u001b[0;32mIn [56], line 1\u001b[0m\n\u001b[0;32m----> 1\u001b[0m os\u001b[38;5;241m.\u001b[39mmkdir(folder_to_create_full_path)\n",
      "\u001b[0;31mFileExistsError\u001b[0m: [Errno 17] File exists: '/Users/robertokramer/git_repos/personal/formacion_python/sesion_5/folder_test'"
     ]
    }
   ],
   "source": [
    "os.mkdir(folder_to_create_full_path)"
   ]
  },
  {
   "cell_type": "code",
   "execution_count": 57,
   "id": "87a7e30f-6c31-4d26-a35b-937024a4dc73",
   "metadata": {},
   "outputs": [
    {
     "name": "stdout",
     "output_type": "stream",
     "text": [
      "Folder already exists: /Users/robertokramer/git_repos/personal/formacion_python/sesion_5/folder_test\n",
      "Process ended\n"
     ]
    }
   ],
   "source": [
    "import os \n",
    "from pathlib import Path\n",
    "\n",
    "current_path = Path().cwd()\n",
    "folder_to_create = \"folder_test\"\n",
    "folder_to_create_full_path = Path.joinpath(current_path,folder_to_create)\n",
    "\n",
    "try:\n",
    "    os.mkdir(folder_to_create_full_path)\n",
    "except:\n",
    "    print(f\"Folder already exists: {folder_to_create_full_path}\")\n",
    "print(\"Process ended\")"
   ]
  },
  {
   "cell_type": "code",
   "execution_count": null,
   "id": "cbe88143-a6dc-4f17-8dad-2202ef10d990",
   "metadata": {},
   "outputs": [],
   "source": []
  }
 ],
 "metadata": {
  "kernelspec": {
   "display_name": "Python 3 (ipykernel)",
   "language": "python",
   "name": "python3"
  },
  "language_info": {
   "codemirror_mode": {
    "name": "ipython",
    "version": 3
   },
   "file_extension": ".py",
   "mimetype": "text/x-python",
   "name": "python",
   "nbconvert_exporter": "python",
   "pygments_lexer": "ipython3",
   "version": "3.8.9"
  }
 },
 "nbformat": 4,
 "nbformat_minor": 5
}
